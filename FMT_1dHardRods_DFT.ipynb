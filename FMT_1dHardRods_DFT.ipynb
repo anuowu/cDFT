{
 "cells": [
  {
   "cell_type": "code",
   "execution_count": 1,
   "metadata": {
    "collapsed": true
   },
   "outputs": [],
   "source": [
    "%matplotlib inline\n",
    "import numpy as np\n",
    "import matplotlib.pyplot as plt\n",
    "from scipy.optimize import minimize\n",
    "from scipy.signal import fftconvolve as fftconvolve\n",
    "from scipy.signal import convolve as conv"
   ]
  },
  {
   "cell_type": "code",
   "execution_count": 2,
   "metadata": {
    "collapsed": false
   },
   "outputs": [],
   "source": [
    "# Setup constants\n",
    "kb = 1.38065*10**-26\n",
    "T = 400\n",
    "Na = 6.022*10**23\n",
    "Beta = 1/(Na*kb*T)\n",
    "# print(Beta)"
   ]
  },
  {
   "cell_type": "code",
   "execution_count": 3,
   "metadata": {
    "collapsed": false
   },
   "outputs": [],
   "source": [
    "# Setup grids and so on....\n",
    "pts = 120\n",
    "# Hard wall at x = 10 & 110 => a system of length 100\n",
    "\n",
    "# def v(x):\n",
    "#     # Lennard-Jones\n",
    "#     epsilon = 18\n",
    "#     sigma = 27\n",
    "#     cutoff = 10\n",
    "#     if x<cutoff:\n",
    "#         y = 100.0\n",
    "#     else:\n",
    "#         y = 4.0*epsilon*((sigma/x)**12-(sigma/x)**6)\n",
    "#     return y\n",
    "\n",
    "# # Vectorize allows analysis of function (v) at each point in an input array\n",
    "# v = np.vectorize(v)\n",
    "# v_ext = v(grid)\n",
    "\n",
    "v_ext = np.zeros(pts)\n",
    "v_ext[:10] = 100\n",
    "v_ext[110:] = 100\n",
    "# print(v_ext)"
   ]
  },
  {
   "cell_type": "code",
   "execution_count": 35,
   "metadata": {
    "collapsed": false
   },
   "outputs": [
    {
     "name": "stdout",
     "output_type": "stream",
     "text": [
      "bulk rho= 0.05\n"
     ]
    }
   ],
   "source": [
    "# define packing fraction and radius\n",
    "# THis defines the system density etc...\n",
    "packing_fraction = 0.5\n",
    "radius = 5\n",
    "\n",
    "# bulk density is determined from above\n",
    "rho_bulk = packing_fraction / (2.0*radius)\n",
    "# print('radius=', radius)\n",
    "print('bulk rho=', rho_bulk)\n",
    "# print('packing fraction=', packing_fraction)\n",
    "rho = np.ones(pts)*rho_bulk\n",
    "\n",
    "# Define vectors used for convolutions\n",
    "surface_vector = np.zeros(2*radius+1)\n",
    "surface_vector[0] = 0.5\n",
    "surface_vector[-1] = 0.5\n",
    "volume_vector = np.ones(2*radius+1)\n",
    "# Half on edge vectors accounts for int between -R and +R\n",
    "volume_vector[0] = 0.5\n",
    "volume_vector[-1] = 0.5\n",
    "\n",
    "# Hard rod contribution to the chemical potential\n",
    "mu_ex = (1/Beta)*((packing_fraction/(1-packing_fraction)) - np.log(1-packing_fraction))\n",
    "# print('mu_ex=', mu_ex)\n",
    "\n",
    "# Hard contribution to the chemical potential via convolution \n",
    "rho = np.ones(pts)*rho_bulk\n",
    "\n",
    "n0 = np.convolve(rho, surface_vector, mode='valid')\n",
    "n1 = np.convolve(rho, volume_vector, mode='valid')\n",
    "# print(n0,n1)\n",
    "\n",
    "mu = np.convolve((n0/(1-n1)), volume_vector, mode='valid') - np.convolve(np.log(1-n1), surface_vector, mode='valid')\n",
    "mu_conv = mu/Beta\n",
    "# print(mu_conv[0])\n"
   ]
  },
  {
   "cell_type": "code",
   "execution_count": 36,
   "metadata": {
    "collapsed": true
   },
   "outputs": [],
   "source": [
    "# function that convolves two vectors\n",
    "def convolve(a, b):\n",
    "    return np.convolve(a, b, mode='same')"
   ]
  },
  {
   "cell_type": "code",
   "execution_count": 37,
   "metadata": {
    "collapsed": true
   },
   "outputs": [],
   "source": [
    "# calculate c1\n",
    "def calc_c1(rho):\n",
    "    # calculate n0, n1\n",
    "    n0 = convolve(rho, surface_vector) # *dx\n",
    "    n1 = convolve(rho, volume_vector) # *dx\n",
    "    c1 = convolve(np.log(1-n1), surface_vector) - convolve((n0/(1-n1)), volume_vector)\n",
    "    \n",
    "    return c1"
   ]
  },
  {
   "cell_type": "code",
   "execution_count": 38,
   "metadata": {
    "collapsed": true
   },
   "outputs": [],
   "source": [
    "def F_id(rho):\n",
    "    return np.sum(rho*(np.log(rho)-1))/Beta\n",
    "\n",
    "def F_hs(rho):\n",
    "    n0 = convolve(rho, surface_vector) # *dx\n",
    "    n1 = convolve(rho, volume_vector) # *dx\n",
    "    np.clip(n1,-np.inf,0.99999999999999, out=n1)\n",
    "\n",
    "    return -np.sum(n0*np.log(1-n1))/Beta"
   ]
  },
  {
   "cell_type": "code",
   "execution_count": 39,
   "metadata": {
    "collapsed": true
   },
   "outputs": [],
   "source": [
    "def mu_id(rho):\n",
    "    return np.log(rho_bulk)/Beta\n",
    "\n",
    "def mu_hs(rho):\n",
    "    return mu_ex"
   ]
  },
  {
   "cell_type": "code",
   "execution_count": 40,
   "metadata": {
    "collapsed": true
   },
   "outputs": [],
   "source": [
    "def Omega(rho):\n",
    "    F_tot = F_id(rho) + F_hs(rho)\n",
    "    mu = mu_id(rho) + mu_hs(rho)\n",
    "\n",
    "    return F_tot + np.sum(rho*(v_ext-mu))"
   ]
  },
  {
   "cell_type": "code",
   "execution_count": 41,
   "metadata": {
    "collapsed": false
   },
   "outputs": [
    {
     "data": {
      "text/plain": [
       "[<matplotlib.lines.Line2D at 0x114986a90>]"
      ]
     },
     "execution_count": 41,
     "metadata": {},
     "output_type": "execute_result"
    },
    {
     "data": {
      "image/png": "[encoded data removed]",
      "text/plain": [
       "<matplotlib.figure.Figure at 0x114835080>"
      ]
     },
     "metadata": {},
     "output_type": "display_data"
    }
   ],
   "source": [
    "rho = np.ones(pts)*rho_bulk*np.exp(-Beta*v_ext)\n",
    "res = minimize(Omega, rho, bounds=[(0.001,None)]*pts)\n",
    "\n",
    "plt.plot(res.x, label='Density')"
   ]
  },
  {
   "cell_type": "code",
   "execution_count": 42,
   "metadata": {
    "collapsed": false
   },
   "outputs": [
    {
     "data": {
      "text/plain": [
       "5.000000000000087"
      ]
     },
     "execution_count": 42,
     "metadata": {},
     "output_type": "execute_result"
    }
   ],
   "source": [
    "np.sum(rho)"
   ]
  },
  {
   "cell_type": "code",
   "execution_count": 110,
   "metadata": {
    "collapsed": false
   },
   "outputs": [],
   "source": [
    "# # PICARD ITERATION...\n",
    "# # initial density is defined from the bulk density and external potential\n",
    "# rho = np.ones(pts)*rho_bulk*np.exp(-Beta*v_ext)\n",
    "\n",
    "# alpha = 0.002\n",
    "\n",
    "# #Picard iteration here\n",
    "# for i in range(1,10000):    \n",
    "\n",
    "    \n",
    "#     # calculate c(1)\n",
    "#     c1 = calc_c1(rho)\n",
    "\n",
    "#     # Update density\n",
    "#     rho = ((1-alpha)*rho) + alpha*rho_bulk*np.exp((-Beta*v_ext)+c1+mu_ex)\n"
   ]
  },
  {
   "cell_type": "code",
   "execution_count": null,
   "metadata": {
    "collapsed": true
   },
   "outputs": [],
   "source": []
  },
  {
   "cell_type": "code",
   "execution_count": null,
   "metadata": {
    "collapsed": true
   },
   "outputs": [],
   "source": []
  }
 ],
 "metadata": {
  "kernelspec": {
   "display_name": "Python 3",
   "language": "python",
   "name": "python3"
  },
  "language_info": {
   "codemirror_mode": {
    "name": "ipython",
    "version": 3
   },
   "file_extension": ".py",
   "mimetype": "text/x-python",
   "name": "python",
   "nbconvert_exporter": "python",
   "pygments_lexer": "ipython3",
   "version": "3.5.2"
  }
 },
 "nbformat": 4,
 "nbformat_minor": 1
}
