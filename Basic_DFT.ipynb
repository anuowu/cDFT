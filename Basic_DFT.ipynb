{
 "cells": [
  {
   "cell_type": "code",
   "execution_count": 1,
   "metadata": {
    "collapsed": true
   },
   "outputs": [],
   "source": [
    "%matplotlib inline\n",
    "import numpy as np\n",
    "import matplotlib.pyplot as plt\n",
    "from scipy.optimize import minimize\n",
    "from scipy.signal import fftconvolve"
   ]
  },
  {
   "cell_type": "code",
   "execution_count": 2,
   "metadata": {
    "collapsed": false
   },
   "outputs": [],
   "source": [
    "# Setup constants\n",
    "kb = 1.38065*10**-26\n",
    "T = 300\n",
    "Na = 6.022*10**23\n",
    "Beta = 1/(Na*kb*T)"
   ]
  },
  {
   "cell_type": "code",
   "execution_count": 3,
   "metadata": {
    "collapsed": false
   },
   "outputs": [],
   "source": [
    "# Setup grids and so on....\n",
    "pts = 100\n",
    "gridmax = 14\n",
    "dx = gridmax/(pts)\n",
    "grid = np.arange(0,gridmax,dx)+dx\n"
   ]
  },
  {
   "cell_type": "code",
   "execution_count": 4,
   "metadata": {
    "collapsed": false
   },
   "outputs": [],
   "source": [
    "# Initial guess at density\n",
    "rho = np.zeros(pts)+0.1"
   ]
  },
  {
   "cell_type": "code",
   "execution_count": 5,
   "metadata": {
    "collapsed": false
   },
   "outputs": [],
   "source": [
    "# External potential here\n",
    "def v(x):\n",
    "    # Hard wall at x = 5\n",
    "    cutoff = 5\n",
    "    if x<cutoff:\n",
    "        y = 100\n",
    "    else:\n",
    "        y = 0 \n",
    "    return y\n",
    "\n",
    "def v(x):\n",
    "    # Lennard-Jones\n",
    "    epsilon = 1.8\n",
    "    sigma = 2.7\n",
    "    cutoff = 2.2\n",
    "    if x<cutoff:\n",
    "        y = 100.0\n",
    "    else:\n",
    "        y = 4.0*epsilon*((sigma/x)**12-(sigma/x)**6)\n",
    "    return y\n",
    "\n",
    "# Vectorize allows analysis of function (v) at each point in an input array\n",
    "v = np.vectorize(v)\n",
    "v_ext = v(grid)"
   ]
  },
  {
   "cell_type": "code",
   "execution_count": 6,
   "metadata": {
    "collapsed": false
   },
   "outputs": [],
   "source": [
    "# Ideal helmholtz free energy\n",
    "def F_id(rho):\n",
    "    return np.sum(rho*(np.log(rho)-1))*dx/Beta\n",
    "\n",
    "# External Helmholtz free energy\n",
    "def F_ext(rho):\n",
    "    return np.sum(v_ext*rho)*dx\n",
    "\n",
    "# Total Helmholtz free energy\n",
    "def F_tot(rho):\n",
    "    return F_id(rho) + F_ext(rho)\n",
    "\n",
    "res = minimize(F_tot, rho, bounds=[(0.01,None)]*pts)\n"
   ]
  },
  {
   "cell_type": "code",
   "execution_count": 7,
   "metadata": {
    "collapsed": false
   },
   "outputs": [
    {
     "data": {
      "image/png": "[encoded data removed]",
      "text/plain": [
       "<matplotlib.figure.Figure at 0x107d706d8>"
      ]
     },
     "metadata": {},
     "output_type": "display_data"
    }
   ],
   "source": [
    "plt.plot(grid,res.x, label='Density')\n",
    "# plt.plot(grid,v_ext, label='Potential')\n",
    "plt.show()"
   ]
  },
  {
   "cell_type": "code",
   "execution_count": null,
   "metadata": {
    "collapsed": true
   },
   "outputs": [],
   "source": []
  },
  {
   "cell_type": "code",
   "execution_count": 8,
   "metadata": {
    "collapsed": false
   },
   "outputs": [
    {
     "data": {
      "image/png": "[encoded data removed]",
      "text/plain": [
       "<matplotlib.figure.Figure at 0x107d70f98>"
      ]
     },
     "metadata": {},
     "output_type": "display_data"
    }
   ],
   "source": [
    "def v(x):\n",
    "    # Gaussian\n",
    "    mu = 5\n",
    "    sigma = 1\n",
    "    return np.exp(-np.power(x - mu, 2.) / (2 * np.power(sigma, 2.)))\n",
    "# Vectorize allows analysis of function (v) at each point in an input array\n",
    "v = np.vectorize(v)\n",
    "v_ext = v(grid)\n",
    "\n",
    "res = minimize(F_tot, rho, bounds=[(0.01,None)]*pts)\n",
    "\n",
    "plt.plot(grid,res.x, label='Density')\n",
    "# plt.plot(grid,v_ext, label='Potential')\n",
    "plt.show()"
   ]
  },
  {
   "cell_type": "code",
   "execution_count": 9,
   "metadata": {
    "collapsed": false
   },
   "outputs": [
    {
     "data": {
      "image/png": "[encoded data removed]",
      "text/plain": [
       "<matplotlib.figure.Figure at 0x107d70e80>"
      ]
     },
     "metadata": {},
     "output_type": "display_data"
    }
   ],
   "source": [
    "def v(x):\n",
    "    # Hard wall at x = 5\n",
    "    cutoff = 5\n",
    "    if x<cutoff:\n",
    "        y = 100\n",
    "    else:\n",
    "        y = 0 \n",
    "    return y\n",
    "# Vectorize allows analysis of function (v) at each point in an input array\n",
    "v = np.vectorize(v)\n",
    "v_ext = v(grid)\n",
    "\n",
    "res = minimize(F_tot, rho, bounds=[(0.01,None)]*pts)\n",
    "\n",
    "plt.plot(grid,res.x, label='Density')\n",
    "# plt.plot(grid,v_ext, label='Potential')\n",
    "plt.show()"
   ]
  },
  {
   "cell_type": "markdown",
   "metadata": {},
   "source": [
    "\n",
    "$$\\beta F^{1D}_{ex}[{\\rho_i}]=\\int dz  \\Phi({n_{\\alpha}})$$\n",
    "\n",
    "$$n_{\\alpha}(z) = \\int dz' \\rho_i(z') \\omega^i_{\\alpha}(z-z')$$\n",
    "\n",
    "$$\\omega^i_0(z)=\\frac{1}{2}(\\delta(z-R_i)+\\delta(z+R_i))$$\n",
    "\n",
    "$$\\omega^i_1(z)=\\Theta(R_i-|z|)$$\n",
    "\n",
    "$$\\Phi({n_\\alpha})=-n_0 ln(1-n_1)$$"
   ]
  },
  {
   "cell_type": "markdown",
   "metadata": {},
   "source": [
    "$$n_0(x)=\\int dz' \\rho_i(z') \\frac{1}{2}(\\delta(z-z'-R_i)+\\delta(z-z'+R_i))$$\n",
    "\n",
    "$$n_0(x)=\\frac{1}{2}\\rho(x+R)+\\frac{1}{2}\\rho(x-R)$$\n",
    "\n",
    "$$n_1(x)=\\int_{x-R}^{x+R} \\rho(x') dx'$$\n",
    "\n",
    "$$\\beta F=\\sum_x \\delta x \\Phi(x)$$"
   ]
  },
  {
   "cell_type": "code",
   "execution_count": 1,
   "metadata": {
    "collapsed": false
   },
   "outputs": [
    {
     "ename": "NameError",
     "evalue": "name 'np' is not defined",
     "output_type": "error",
     "traceback": [
      "\u001b[0;31m---------------------------------------------------------------------------\u001b[0m",
      "\u001b[0;31mNameError\u001b[0m                                 Traceback (most recent call last)",
      "\u001b[0;32m<ipython-input-1-e1c95155e6f9>\u001b[0m in \u001b[0;36m<module>\u001b[0;34m()\u001b[0m\n\u001b[1;32m     10\u001b[0m     \u001b[0;32mreturn\u001b[0m \u001b[0my\u001b[0m\u001b[0;34m\u001b[0m\u001b[0m\n\u001b[1;32m     11\u001b[0m \u001b[0;31m# Vectorize allows analysis of function (v) at each point in an input array\u001b[0m\u001b[0;34m\u001b[0m\u001b[0;34m\u001b[0m\u001b[0m\n\u001b[0;32m---> 12\u001b[0;31m \u001b[0mv\u001b[0m \u001b[0;34m=\u001b[0m \u001b[0mnp\u001b[0m\u001b[0;34m.\u001b[0m\u001b[0mvectorize\u001b[0m\u001b[0;34m(\u001b[0m\u001b[0mv\u001b[0m\u001b[0;34m)\u001b[0m\u001b[0;34m\u001b[0m\u001b[0m\n\u001b[0m\u001b[1;32m     13\u001b[0m \u001b[0mv_ext\u001b[0m \u001b[0;34m=\u001b[0m \u001b[0mv\u001b[0m\u001b[0;34m(\u001b[0m\u001b[0mgrid\u001b[0m\u001b[0;34m)\u001b[0m\u001b[0;34m\u001b[0m\u001b[0m\n\u001b[1;32m     14\u001b[0m \u001b[0;34m\u001b[0m\u001b[0m\n",
      "\u001b[0;31mNameError\u001b[0m: name 'np' is not defined"
     ]
    }
   ],
   "source": [
    "def v(x):\n",
    "    # Hard wall at x = 5\n",
    "    cutoff = 2\n",
    "    if x<cutoff:\n",
    "        y = 100\n",
    "    elif x>(gridmax-cutoff):\n",
    "        y = 100\n",
    "    else:\n",
    "        y = 0 \n",
    "    return y\n",
    "# Vectorize allows analysis of function (v) at each point in an input array\n",
    "v = np.vectorize(v)\n",
    "v_ext = v(grid)\n",
    "\n",
    "# Ideal helmholtz free energy\n",
    "def F_id(rho):\n",
    "    return np.sum(rho*(np.log(rho)-1))*dx/Beta\n",
    "\n",
    "# External Helmholtz free energy\n",
    "def F_ext(rho):\n",
    "    return np.sum(v_ext*rho)*dx\n",
    "\n",
    "Radii = 100\n",
    "def vector_n0(rho):\n",
    "    conv_vector = np.zeros(2*Radii+1) #Convolution vector\n",
    "    conv_vector[0] = 1\n",
    "    conv_vector[-1] = 1\n",
    "    n0 = 0.5*np.convolve(rho, conv_vector, mode='same')*dx\n",
    "    return n0\n",
    "\n",
    "def vector_n1(rho):\n",
    "    conv_vector = np.ones(2*Radii+1) #Convolution vector\n",
    "    n1 = np.convolve(rho, conv_vector, mode='same')*dx\n",
    "#     np.clip(n1,-np.inf,0.99999999999999, out=n1)\n",
    "    return n1\n",
    "\n",
    "def F_1d(rho):\n",
    "    n0 = vector_n0(rho)\n",
    "    n1 = vector_n1(rho)\n",
    "    y = -np.sum(n0*np.log(1-n1))*dx/Beta\n",
    "    return y\n",
    "\n",
    "# Total Helmholtz free energy\n",
    "def F_tot(rho):\n",
    "    return F_id(rho) + F_ext(rho) + F_1d(rho)\n",
    "rho = np.zeros(pts) + 0.\n",
    "res = minimize(F_tot, rho, bounds=[(0.001,None)]*pts)\n",
    "\n",
    "plt.plot(grid,res.x, label='Density')\n"
   ]
  },
  {
   "cell_type": "markdown",
   "metadata": {
    "collapsed": false
   },
   "source": [
    "$$\\frac{1}{L}\\int_{-\\infty}^{t}H(t^{'})\\exp(-\\frac{R}{L}(t-t^{'}))dt^{'}$$\n",
    "$$\\exp(-\\frac{R}{L}t)H(t)$$"
   ]
  },
  {
   "cell_type": "code",
   "execution_count": 26,
   "metadata": {
    "collapsed": false
   },
   "outputs": [
    {
     "data": {
      "text/plain": [
       "0.013999999999999997"
      ]
     },
     "execution_count": 26,
     "metadata": {},
     "output_type": "execute_result"
    }
   ],
   "source": [
    "np.sum(res.x*dx)"
   ]
  },
  {
   "cell_type": "raw",
   "metadata": {},
   "source": [
    "rho = np.linspace(1,10,10)"
   ]
  },
  {
   "cell_type": "raw",
   "metadata": {},
   "source": [
    "conv_vector = np.ones(10)"
   ]
  },
  {
   "cell_type": "raw",
   "metadata": {},
   "source": [
    "print(rho)\n",
    "print(conv_vector)\n",
    "np.convolve(rho,conv_vector)[0:len(rho)]"
   ]
  },
  {
   "cell_type": "code",
   "execution_count": null,
   "metadata": {
    "collapsed": true
   },
   "outputs": [],
   "source": []
  }
 ],
 "metadata": {
  "kernelspec": {
   "display_name": "Python 3",
   "language": "python",
   "name": "python3"
  },
  "language_info": {
   "codemirror_mode": {
    "name": "ipython",
    "version": 3
   },
   "file_extension": ".py",
   "mimetype": "text/x-python",
   "name": "python",
   "nbconvert_exporter": "python",
   "pygments_lexer": "ipython3",
   "version": "3.5.2"
  }
 },
 "nbformat": 4,
 "nbformat_minor": 1
}
