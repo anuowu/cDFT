{
 "cells": [
  {
   "cell_type": "code",
   "execution_count": 4,
   "metadata": {
    "collapsed": true
   },
   "outputs": [],
   "source": [
    "%matplotlib inline\n",
    "import numpy as np\n",
    "import matplotlib.pyplot as plt\n",
    "from scipy.optimize import minimize\n",
    "from scipy.signal import fftconvolve"
   ]
  },
  {
   "cell_type": "code",
   "execution_count": 5,
   "metadata": {
    "collapsed": true
   },
   "outputs": [],
   "source": [
    "# Setup constants\n",
    "kb = 1.38065*10**-26\n",
    "T = 400\n",
    "Na = 6.022*10**23\n",
    "Beta = 1/(Na*kb*T)\n",
    "# print(Beta)"
   ]
  },
  {
   "cell_type": "code",
   "execution_count": 6,
   "metadata": {
    "collapsed": true
   },
   "outputs": [],
   "source": [
    "# Setup grids and so on....\n",
    "pts = 120\n",
    "# gridmax = 14\n",
    "# dx = gridmax/(pts)\n",
    "# grid = np.arange(0,gridmax,dx)+dx"
   ]
  },
  {
   "cell_type": "code",
   "execution_count": 53,
   "metadata": {
    "collapsed": false
   },
   "outputs": [],
   "source": [
    "# Hard wall at x = 10 & 90\n",
    "v_ext = np.zeros(pts)\n",
    "v_ext[:10] = 1000\n",
    "# v_ext[110:] = 1000"
   ]
  },
  {
   "cell_type": "code",
   "execution_count": 54,
   "metadata": {
    "collapsed": false
   },
   "outputs": [
    {
     "name": "stdout",
     "output_type": "stream",
     "text": [
      "radius= 5\n",
      "bulk rho= 0.0005729577951308232\n",
      "packing fraction= 0.3\n"
     ]
    }
   ],
   "source": [
    "# define packing fraction and radius\n",
    "# THis defines the system density etc...\n",
    "packing_fraction = 0.3\n",
    "radius = 5\n",
    "\n",
    "# bulk density is determined from above\n",
    "rho_bulk = 3*packing_fraction / (4.0*np.pi*radius**3)\n",
    "print('radius=', radius)\n",
    "print('bulk rho=', rho_bulk)\n",
    "print('packing fraction=', packing_fraction)\n"
   ]
  },
  {
   "cell_type": "code",
   "execution_count": 63,
   "metadata": {
    "collapsed": false
   },
   "outputs": [
    {
     "name": "stdout",
     "output_type": "stream",
     "text": [
      "[  0.          28.27433388  50.26548246  65.97344573  75.39822369\n",
      "  78.53981634  75.39822369  65.97344573  50.26548246  28.27433388   0.        ]\n"
     ]
    }
   ],
   "source": [
    "# Define w's\n",
    "a = np.arange(-radius, radius+1)\n",
    "\n",
    "w3 = np.pi*(radius**2-a**2)\n",
    "\n",
    "w2_vec = 0\n",
    "\n",
    "w2 = 2*np.pi*radius*np.ones(2*radius+1)\n",
    "w2[0]  = np.pi*radius\n",
    "w2[-1] = np.pi*radius\n",
    "\n",
    "w1_vec = 0\n",
    "\n",
    "w1 = w2/(4*np.pi*radius)\n",
    "\n",
    "w0 = w2/(4*np.pi*radius**2)\n",
    "\n",
    "print(w3)"
   ]
  },
  {
   "cell_type": "code",
   "execution_count": 62,
   "metadata": {
    "collapsed": false
   },
   "outputs": [
    {
     "name": "stdout",
     "output_type": "stream",
     "text": [
      "[ 0.00057296  0.00057296  0.00057296  0.00057296  0.00057296  0.00057296\n",
      "  0.00057296  0.00057296  0.00057296  0.00057296  0.00057296  0.00057296\n",
      "  0.00057296  0.00057296  0.00057296  0.00057296  0.00057296  0.00057296\n",
      "  0.00057296  0.00057296  0.00057296  0.00057296  0.00057296  0.00057296\n",
      "  0.00057296  0.00057296  0.00057296  0.00057296  0.00057296  0.00057296\n",
      "  0.00057296  0.00057296  0.00057296  0.00057296  0.00057296  0.00057296\n",
      "  0.00057296  0.00057296  0.00057296  0.00057296  0.00057296  0.00057296\n",
      "  0.00057296  0.00057296  0.00057296  0.00057296  0.00057296  0.00057296\n",
      "  0.00057296  0.00057296  0.00057296  0.00057296  0.00057296  0.00057296\n",
      "  0.00057296  0.00057296  0.00057296  0.00057296  0.00057296  0.00057296\n",
      "  0.00057296  0.00057296  0.00057296  0.00057296  0.00057296  0.00057296\n",
      "  0.00057296  0.00057296  0.00057296  0.00057296  0.00057296  0.00057296\n",
      "  0.00057296  0.00057296  0.00057296  0.00057296  0.00057296  0.00057296\n",
      "  0.00057296  0.00057296  0.00057296  0.00057296  0.00057296  0.00057296\n",
      "  0.00057296  0.00057296  0.00057296  0.00057296  0.00057296  0.00057296\n",
      "  0.00057296  0.00057296  0.00057296  0.00057296  0.00057296  0.00057296\n",
      "  0.00057296  0.00057296  0.00057296  0.00057296  0.00057296  0.00057296\n",
      "  0.00057296  0.00057296  0.00057296  0.00057296  0.00057296  0.00057296\n",
      "  0.00057296  0.00057296] [ 0.00286479  0.00286479  0.00286479  0.00286479  0.00286479  0.00286479\n",
      "  0.00286479  0.00286479  0.00286479  0.00286479  0.00286479  0.00286479\n",
      "  0.00286479  0.00286479  0.00286479  0.00286479  0.00286479  0.00286479\n",
      "  0.00286479  0.00286479  0.00286479  0.00286479  0.00286479  0.00286479\n",
      "  0.00286479  0.00286479  0.00286479  0.00286479  0.00286479  0.00286479\n",
      "  0.00286479  0.00286479  0.00286479  0.00286479  0.00286479  0.00286479\n",
      "  0.00286479  0.00286479  0.00286479  0.00286479  0.00286479  0.00286479\n",
      "  0.00286479  0.00286479  0.00286479  0.00286479  0.00286479  0.00286479\n",
      "  0.00286479  0.00286479  0.00286479  0.00286479  0.00286479  0.00286479\n",
      "  0.00286479  0.00286479  0.00286479  0.00286479  0.00286479  0.00286479\n",
      "  0.00286479  0.00286479  0.00286479  0.00286479  0.00286479  0.00286479\n",
      "  0.00286479  0.00286479  0.00286479  0.00286479  0.00286479  0.00286479\n",
      "  0.00286479  0.00286479  0.00286479  0.00286479  0.00286479  0.00286479\n",
      "  0.00286479  0.00286479  0.00286479  0.00286479  0.00286479  0.00286479\n",
      "  0.00286479  0.00286479  0.00286479  0.00286479  0.00286479  0.00286479\n",
      "  0.00286479  0.00286479  0.00286479  0.00286479  0.00286479  0.00286479\n",
      "  0.00286479  0.00286479  0.00286479  0.00286479  0.00286479  0.00286479\n",
      "  0.00286479  0.00286479  0.00286479  0.00286479  0.00286479  0.00286479\n",
      "  0.00286479  0.00286479] [ 0.18  0.18  0.18  0.18  0.18  0.18  0.18  0.18  0.18  0.18  0.18  0.18\n",
      "  0.18  0.18  0.18  0.18  0.18  0.18  0.18  0.18  0.18  0.18  0.18  0.18\n",
      "  0.18  0.18  0.18  0.18  0.18  0.18  0.18  0.18  0.18  0.18  0.18  0.18\n",
      "  0.18  0.18  0.18  0.18  0.18  0.18  0.18  0.18  0.18  0.18  0.18  0.18\n",
      "  0.18  0.18  0.18  0.18  0.18  0.18  0.18  0.18  0.18  0.18  0.18  0.18\n",
      "  0.18  0.18  0.18  0.18  0.18  0.18  0.18  0.18  0.18  0.18  0.18  0.18\n",
      "  0.18  0.18  0.18  0.18  0.18  0.18  0.18  0.18  0.18  0.18  0.18  0.18\n",
      "  0.18  0.18  0.18  0.18  0.18  0.18  0.18  0.18  0.18  0.18  0.18  0.18\n",
      "  0.18  0.18  0.18  0.18  0.18  0.18  0.18  0.18  0.18  0.18  0.18  0.18\n",
      "  0.18  0.18] [ 0.297  0.297  0.297  0.297  0.297  0.297  0.297  0.297  0.297  0.297\n",
      "  0.297  0.297  0.297  0.297  0.297  0.297  0.297  0.297  0.297  0.297\n",
      "  0.297  0.297  0.297  0.297  0.297  0.297  0.297  0.297  0.297  0.297\n",
      "  0.297  0.297  0.297  0.297  0.297  0.297  0.297  0.297  0.297  0.297\n",
      "  0.297  0.297  0.297  0.297  0.297  0.297  0.297  0.297  0.297  0.297\n",
      "  0.297  0.297  0.297  0.297  0.297  0.297  0.297  0.297  0.297  0.297\n",
      "  0.297  0.297  0.297  0.297  0.297  0.297  0.297  0.297  0.297  0.297\n",
      "  0.297  0.297  0.297  0.297  0.297  0.297  0.297  0.297  0.297  0.297\n",
      "  0.297  0.297  0.297  0.297  0.297  0.297  0.297  0.297  0.297  0.297\n",
      "  0.297  0.297  0.297  0.297  0.297  0.297  0.297  0.297  0.297  0.297\n",
      "  0.297  0.297  0.297  0.297  0.297  0.297  0.297  0.297  0.297  0.297]\n"
     ]
    }
   ],
   "source": [
    "# Hard contribution to the chemical potential via convolution \n",
    "rho = np.ones(pts)*rho_bulk\n",
    "\n",
    "n0 = np.convolve(rho, w0, mode='valid')\n",
    "n1 = np.convolve(rho, w1, mode='valid')\n",
    "n2 = np.convolve(rho, w2, mode='valid')\n",
    "n3 = np.convolve(rho, w3, mode='valid')\n",
    "print(n0,n1,n2,n3)"
   ]
  },
  {
   "cell_type": "code",
   "execution_count": null,
   "metadata": {
    "collapsed": true
   },
   "outputs": [],
   "source": []
  },
  {
   "cell_type": "code",
   "execution_count": null,
   "metadata": {
    "collapsed": true
   },
   "outputs": [],
   "source": []
  },
  {
   "cell_type": "code",
   "execution_count": null,
   "metadata": {
    "collapsed": true
   },
   "outputs": [],
   "source": []
  },
  {
   "cell_type": "code",
   "execution_count": null,
   "metadata": {
    "collapsed": true
   },
   "outputs": [],
   "source": []
  },
  {
   "cell_type": "code",
   "execution_count": null,
   "metadata": {
    "collapsed": true
   },
   "outputs": [],
   "source": []
  },
  {
   "cell_type": "code",
   "execution_count": null,
   "metadata": {
    "collapsed": true
   },
   "outputs": [],
   "source": []
  },
  {
   "cell_type": "code",
   "execution_count": 149,
   "metadata": {
    "collapsed": true
   },
   "outputs": [],
   "source": [
    "# Ideal helmholtz free energy\n",
    "# def F_id(rho):\n",
    "#     return np.sum(rho*(np.log(rho)-1))*dx/Beta"
   ]
  },
  {
   "cell_type": "code",
   "execution_count": 197,
   "metadata": {
    "collapsed": true
   },
   "outputs": [],
   "source": [
    "# External Helmholtz free energy\n",
    "def V_ext(rho):\n",
    "    return np.sum(v_ext*rho)"
   ]
  },
  {
   "cell_type": "code",
   "execution_count": 263,
   "metadata": {
    "collapsed": true
   },
   "outputs": [],
   "source": [
    "def mu_id(rho):\n",
    "    return np.sum(rho*np.log(rho))\n",
    "\n",
    "def mu_ex(rho):\n",
    "    y = packing/(1-packing) + np.log(1-bulk_rho)\n",
    "    return np.sum(rho*y)"
   ]
  },
  {
   "cell_type": "code",
   "execution_count": 264,
   "metadata": {
    "collapsed": false
   },
   "outputs": [],
   "source": [
    "# Fundamental Measure Theory (1D)\n",
    "def vector_n0(rho):\n",
    "    conv_vector = np.zeros(2*Radii+1) #Convolution vector\n",
    "    conv_vector[0] = 1\n",
    "    conv_vector[-1] = 1\n",
    "    n0 = 0.5*np.convolve(rho, conv_vector)\n",
    "    return n0\n",
    "\n",
    "def vector_n1(rho):\n",
    "    conv_vector = np.ones(2*Radii+1) #Convolution vector\n",
    "    n1 = np.convolve(rho, conv_vector)\n",
    "    np.clip(n1, 0, 1-(1e-16), out=n1)\n",
    "    return n1\n",
    "\n",
    "def F_exc(rho):\n",
    "    n0 = vector_n0(rho)\n",
    "    n1 = vector_n1(rho)\n",
    "    y = -np.sum(n0*np.log(1-n1))\n",
    "    return y\n",
    "\n",
    "# Ideal helmholtz free energy\n",
    "def F_id(rho):\n",
    "    return np.sum(rho*(np.log(rho)-1))\n",
    "\n",
    "def F_tot(rho):\n",
    "    return V_ext(rho)+F_id(rho)+F_exc(rho)+mu_id(rho)+mu_ex(rho)"
   ]
  },
  {
   "cell_type": "code",
   "execution_count": 309,
   "metadata": {
    "collapsed": false
   },
   "outputs": [
    {
     "name": "stdout",
     "output_type": "stream",
     "text": [
      "0.05\n"
     ]
    },
    {
     "data": {
      "text/plain": [
       "[<matplotlib.lines.Line2D at 0x10e93cc18>]"
      ]
     },
     "execution_count": 309,
     "metadata": {},
     "output_type": "execute_result"
    },
    {
     "data": {
      "image/png": "[encoded data removed]",
      "text/plain": [
       "<matplotlib.figure.Figure at 0x10e5a7518>"
      ]
     },
     "metadata": {},
     "output_type": "display_data"
    }
   ],
   "source": [
    "Radii = 1\n",
    "packing = 0.1\n",
    "bulk_rho = packing/(2*Radii)\n",
    "print(bulk_rho)\n",
    "\n",
    "rho = np.zeros(pts)+bulk_rho\n",
    "\n",
    "res = minimize(F_tot, rho, bounds=[(1e-16,None)]*pts)\n",
    "plt.plot(res.x)\n"
   ]
  },
  {
   "cell_type": "code",
   "execution_count": 303,
   "metadata": {
    "collapsed": false
   },
   "outputs": [],
   "source": [
    "# # Picard Iteration\n",
    "# rho = np.zeros(pts)+0.01\n",
    "# Radii = 1\n",
    "# alpha = 0.1\n",
    "\n",
    "# for i in range(0,10):\n",
    "#     print(rho)\n",
    "#     rho = (1-alpha)*rho + rho*alpha*np.exp(F_ext(rho)+F_1d(rho))"
   ]
  },
  {
   "cell_type": "code",
   "execution_count": 304,
   "metadata": {
    "collapsed": true
   },
   "outputs": [],
   "source": [
    "# Max density = 1/2R"
   ]
  },
  {
   "cell_type": "code",
   "execution_count": 305,
   "metadata": {
    "collapsed": false
   },
   "outputs": [
    {
     "name": "stdout",
     "output_type": "stream",
     "text": [
      "6.66065355644\n"
     ]
    }
   ],
   "source": [
    "# Number of particles\n",
    "print(np.sum(res.x))"
   ]
  },
  {
   "cell_type": "code",
   "execution_count": 293,
   "metadata": {
    "collapsed": false
   },
   "outputs": [
    {
     "data": {
      "text/plain": [
       "array([  1.00000000e-16,   2.00000000e-16,   3.00000000e-16,\n",
       "         4.00000000e-16,   5.00000000e-16,   5.00000000e-16,\n",
       "         5.00000000e-16,   5.00000000e-16,   5.00000000e-16,\n",
       "         5.00000000e-16,   2.05543673e-01,   3.80284680e-01,\n",
       "         5.28317377e-01,   6.53475616e-01,   7.58795407e-01,\n",
       "         6.80041835e-01,   6.40641990e-01,   6.29527847e-01,\n",
       "         6.38795613e-01,   6.62923399e-01,   6.65323471e-01,\n",
       "         6.60402440e-01,   6.55058334e-01,   6.52633686e-01,\n",
       "         6.54689786e-01,   6.56597294e-01,   6.57178324e-01,\n",
       "         6.56723267e-01,   6.55996945e-01,   6.55798926e-01,\n",
       "         6.55962141e-01,   6.56173723e-01,   6.56252290e-01,\n",
       "         6.56191123e-01,   6.56117025e-01,   6.56093325e-01,\n",
       "         6.56113320e-01,   6.56141731e-01,   6.56151970e-01,\n",
       "         6.56146459e-01,   6.56138970e-01,   6.56138742e-01,\n",
       "         6.56146176e-01,   6.56155865e-01,   6.56163074e-01,\n",
       "         6.56166075e-01,   6.56165874e-01,   6.56164188e-01,\n",
       "         6.56162526e-01,   6.56161304e-01,   6.56160631e-01,\n",
       "         6.56160359e-01,   6.56160259e-01,   6.56160123e-01,\n",
       "         6.56160113e-01,   6.56160134e-01,   6.56160226e-01,\n",
       "         6.56160318e-01,   6.56160431e-01,   6.56160515e-01,\n",
       "         6.56160560e-01,   6.56160539e-01,   6.56160552e-01,\n",
       "         6.56160553e-01,   6.56160592e-01,   6.56160616e-01,\n",
       "         6.56160601e-01,   6.56160591e-01,   6.56160600e-01,\n",
       "         6.56160571e-01,   6.56160568e-01,   6.56160589e-01,\n",
       "         6.56160726e-01,   6.56161001e-01,   6.56161657e-01,\n",
       "         6.56162779e-01,   6.56164450e-01,   6.56165916e-01,\n",
       "         6.56165970e-01,   6.56162764e-01,   6.56155551e-01,\n",
       "         6.56145747e-01,   6.56138370e-01,   6.56138664e-01,\n",
       "         6.56146284e-01,   6.56151793e-01,   6.56141702e-01,\n",
       "         6.56113359e-01,   6.56093400e-01,   6.56117159e-01,\n",
       "         6.56191329e-01,   6.56252504e-01,   6.56173986e-01,\n",
       "         6.55962386e-01,   6.55799036e-01,   6.55997045e-01,\n",
       "         6.56723435e-01,   6.57178417e-01,   6.56597381e-01,\n",
       "         6.54689999e-01,   6.52633853e-01,   6.55058390e-01,\n",
       "         6.60402481e-01,   6.65323497e-01,   6.62923460e-01,\n",
       "         6.38795646e-01,   6.29527879e-01,   6.40641964e-01,\n",
       "         6.80041705e-01,   7.58795190e-01,   6.53475432e-01,\n",
       "         5.28317209e-01,   3.80284574e-01,   2.05543666e-01,\n",
       "         5.00000000e-16,   5.00000000e-16,   5.00000000e-16,\n",
       "         5.00000000e-16,   5.00000000e-16,   5.00000000e-16,\n",
       "         4.00000000e-16,   3.00000000e-16,   2.00000000e-16,\n",
       "         1.00000000e-16])"
      ]
     },
     "execution_count": 293,
     "metadata": {},
     "output_type": "execute_result"
    }
   ],
   "source": [
    "vector_n1(res.x)"
   ]
  },
  {
   "cell_type": "code",
   "execution_count": 157,
   "metadata": {
    "collapsed": false
   },
   "outputs": [
    {
     "data": {
      "text/plain": [
       "15"
      ]
     },
     "execution_count": 157,
     "metadata": {},
     "output_type": "execute_result"
    }
   ],
   "source": [
    "np.argmax(np.cumsum(res.x)>1)"
   ]
  },
  {
   "cell_type": "code",
   "execution_count": null,
   "metadata": {
    "collapsed": true
   },
   "outputs": [],
   "source": []
  }
 ],
 "metadata": {
  "kernelspec": {
   "display_name": "Python 3",
   "language": "python",
   "name": "python3"
  },
  "language_info": {
   "codemirror_mode": {
    "name": "ipython",
    "version": 3
   },
   "file_extension": ".py",
   "mimetype": "text/x-python",
   "name": "python",
   "nbconvert_exporter": "python",
   "pygments_lexer": "ipython3",
   "version": "3.5.2"
  }
 },
 "nbformat": 4,
 "nbformat_minor": 1
}
